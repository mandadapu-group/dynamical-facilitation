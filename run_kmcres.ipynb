{
 "cells": [
  {
   "cell_type": "markdown",
   "id": "9364af3b-20d7-4ee3-b23c-32c1ca8e1a8d",
   "metadata": {},
   "source": [
    "# Running kMC Simulation"
   ]
  },
  {
   "cell_type": "markdown",
   "id": "d41ed19d-5028-428f-8b10-d363bbbdf920",
   "metadata": {},
   "source": [
    "All routines and kMC code are in the kmcres.py ffile. This notebook is used to try and test runs. "
   ]
  },
  {
   "cell_type": "code",
   "execution_count": 10,
   "id": "21707659-3085-4feb-8ea5-0ab5b4a52985",
   "metadata": {},
   "outputs": [
    {
     "name": "stdout",
     "output_type": "stream",
     "text": [
      "Threading layer --  tbb\n"
     ]
    }
   ],
   "source": [
    "from kmcres import *\n",
    "nb.set_num_threads(1)\n",
    "print(\"Threading layer -- \",nb.threading_layer())\n",
    "import os, glob\n",
    "import sys"
   ]
  },
  {
   "cell_type": "code",
   "execution_count": 11,
   "id": "34615e06-b0e4-4896-9aa1-280fdd220341",
   "metadata": {},
   "outputs": [
    {
     "name": "stdout",
     "output_type": "stream",
     "text": [
      "---- L = 30  ----\n",
      "---- ld = 1.3333333333333333  ----\n",
      "---- J = 5  ----\n",
      "---- kappa = 1.4999999999999998  ----\n"
     ]
    }
   ],
   "source": [
    "name = 'exc'\n",
    "size = 30 #Linear system size, in unis of ld\n",
    "J = 5 #Inverse temperature times Jsigma\n",
    "kappa = 0.5 #interaction strength\n",
    "ld = 4/3 #lattice spacing\n",
    "\n",
    "Rexc = 3**0.5/2.0\n",
    "nu = 0.36\n",
    "udd = 0.116\n",
    "ec = 2*2**0.5*(udd*(1+udd))/(1+2*udd)\n",
    "\n",
    "#For now, I put in 2*udd, and it's approximately two ec!\n",
    "ef = 2*ec #final eigenstrain is always twice the transition-state eigenstrain \n",
    "Rf = Rexc #Radius of final excitation\n",
    "\n",
    "factor = (2**0.5)*(Rf**2)*ef/(1+nu)\n",
    "dispfactor = (2*Rf)**2/(4*2**0.5*(1+nu))*ef\n",
    "kappa = kappa*(2*Rf)**2\n",
    "\n",
    "th = 0.01\n",
    "\n",
    "print(\"---- L =\",size,\" ----\")\n",
    "print(\"---- ld =\",ld,\" ----\")\n",
    "print(\"---- J =\",J,\" ----\")\n",
    "print(\"---- kappa =\",kappa,\" ----\")"
   ]
  },
  {
   "cell_type": "code",
   "execution_count": 13,
   "id": "3db3b2a9-198f-44c1-9d46-a59775af1dbe",
   "metadata": {},
   "outputs": [
    {
     "name": "stdout",
     "output_type": "stream",
     "text": [
      "Simulation already finished\n"
     ]
    }
   ],
   "source": [
    "finalT = 1\n",
    "fh = open('progress.txt', 'w')\n",
    "\n",
    "frames = 500\n",
    "\n",
    "#Run simulation with the ability to restart as well\n",
    "if os.path.exists('finished_{}.txt'.format(name)):\n",
    "    print(\"Simulation already finished\")\n",
    "else:\n",
    "    kmc = KMCModel(J,nu,ld,Rf,kappa,L=size*ld,thetafactor=factor,dispfactor=dispfactor)\n",
    "    period = int(kmc.Nmax*finalT/frames)\n",
    "    if period < 1:\n",
    "        period = 1\n",
    "    \n",
    "    print('{}.gsd'.format(name))\n",
    "    if os.path.exists('{}_restart.gsd'.format(name)):\n",
    "        kmc.load_logfile(name,savegsd=True)\n",
    "        initstep = int(kmc.step)\n",
    "        print(initstep)\n",
    "        kmc.run(finalT=finalT,period=period,Cb_break=th,verbose=True,initstep=initstep)\n",
    "    else:\n",
    "        kmc.create_logfile(name,save=True,savegsd=True)\n",
    "        kmc.run(finalT=finalT,period=period,Cb_break=th,verbose=True)\n",
    "    \n",
    "    f = open(\"finished_{}.txt\".format(name),\"w\")\n",
    "    f.close()\n",
    "    os.remove('{}_restart.gsd'.format(name))\n",
    "    del f\n",
    "    if kmc.Cb < th or kmc.reachth:\n",
    "        print(\"Reached threshold!\")\n",
    "    del kmc"
   ]
  },
  {
   "cell_type": "code",
   "execution_count": null,
   "id": "ddd094e5-e208-4f4f-a6fd-23f62593a34d",
   "metadata": {},
   "outputs": [],
   "source": []
  }
 ],
 "metadata": {
  "kernelspec": {
   "display_name": "Python 3 (ipykernel)",
   "language": "python",
   "name": "python3"
  },
  "language_info": {
   "codemirror_mode": {
    "name": "ipython",
    "version": 3
   },
   "file_extension": ".py",
   "mimetype": "text/x-python",
   "name": "python",
   "nbconvert_exporter": "python",
   "pygments_lexer": "ipython3",
   "version": "3.9.12"
  }
 },
 "nbformat": 4,
 "nbformat_minor": 5
}
